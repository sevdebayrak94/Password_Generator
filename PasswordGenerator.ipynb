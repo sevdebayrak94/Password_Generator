{
 "cells": [
  {
   "cell_type": "code",
   "execution_count": 64,
   "id": "83322e27-c14d-483d-8c88-ebce2216db37",
   "metadata": {},
   "outputs": [],
   "source": [
    "import random\n",
    "letters = ['a', 'b', 'c', 'd', 'e', 'f', 'g', 'h', 'i', 'j', 'k', 'l', 'm', 'n', 'o', 'p', 'q', 'r', 's', 't', 'u', 'v', 'w', 'x', 'y', 'z', 'A', 'B', 'C', 'D', 'E', 'F', 'G', 'H', 'I', 'J', 'K', 'L', 'M', 'N', 'O', 'P', 'Q', 'R', 'S', 'T', 'U', 'V', 'W', 'X', 'Y', 'Z']\n",
    "numbers = ['0', '1', '2', '3', '4', '5', '6', '7', '8', '9']\n",
    "symbols = ['!', '#', '$', '%', '&', '(', ')', '*', '+']"
   ]
  },
  {
   "cell_type": "code",
   "execution_count": 65,
   "id": "1615ec73-9a96-4718-a7cf-8730b85eca8e",
   "metadata": {},
   "outputs": [
    {
     "name": "stdout",
     "output_type": "stream",
     "text": [
      "Welcome to the PyPassword Generator!\n"
     ]
    },
    {
     "name": "stdin",
     "output_type": "stream",
     "text": [
      "How many letters would you like in your password? 3\n",
      "How many symbols would you like? 4\n",
      "How many numbers would you like? 5\n"
     ]
    }
   ],
   "source": [
    "print(\"Welcome to the PyPassword Generator!\")\n",
    "num_letters = int(input(\"How many letters would you like in your password?\"))\n",
    "num_symbols = int(input(\"How many symbols would you like?\"))\n",
    "num_numbers = int(input(\"How many numbers would you like?\"))"
   ]
  },
  {
   "cell_type": "code",
   "execution_count": 66,
   "id": "53ec0097-b3f4-41dd-832c-394431d2af23",
   "metadata": {},
   "outputs": [],
   "source": [
    "password = []\n"
   ]
  },
  {
   "cell_type": "code",
   "execution_count": 67,
   "id": "20996b21-fcef-4606-b46a-55a594464294",
   "metadata": {},
   "outputs": [],
   "source": [
    "for letter in range(0, num_letters):\n",
    "    password.append(random.choice(letters))\n",
    "for num in range(0, num_numbers):\n",
    "    password.append(random.choice(numbers))\n",
    "for char in range(0, num_symbols):\n",
    "    password.append(random.choice(symbols))\n"
   ]
  },
  {
   "cell_type": "code",
   "execution_count": 68,
   "id": "71aeb2eb-cfe3-454b-ae5a-ab1f737ec8d8",
   "metadata": {},
   "outputs": [
    {
     "name": "stdout",
     "output_type": "stream",
     "text": [
      "['J', '!', 'c', '6', '*', '0', '$', '%', 'K', '5', '4', '0']\n"
     ]
    }
   ],
   "source": [
    "random.shuffle(password)\n",
    "print(password)"
   ]
  },
  {
   "cell_type": "code",
   "execution_count": 80,
   "id": "ccaa3cf7-75d6-4423-a407-75d3cdd8d6c4",
   "metadata": {},
   "outputs": [],
   "source": [
    "#Turn password list to str\n",
    "password_str = \"\"\n",
    "for char in password:\n",
    "    password_str += char"
   ]
  },
  {
   "cell_type": "code",
   "execution_count": 84,
   "id": "b304cde7-8e45-4398-8e10-99ca65c776d9",
   "metadata": {},
   "outputs": [
    {
     "name": "stdout",
     "output_type": "stream",
     "text": [
      "Your password is J!c6*0$%K540\n"
     ]
    }
   ],
   "source": [
    "print(f\"Your password is {password_str}\")"
   ]
  },
  {
   "cell_type": "code",
   "execution_count": null,
   "id": "89b34a11-9a1f-4613-be52-97394c9573f0",
   "metadata": {},
   "outputs": [],
   "source": []
  }
 ],
 "metadata": {
  "kernelspec": {
   "display_name": "Python 3 (ipykernel)",
   "language": "python",
   "name": "python3"
  },
  "language_info": {
   "codemirror_mode": {
    "name": "ipython",
    "version": 3
   },
   "file_extension": ".py",
   "mimetype": "text/x-python",
   "name": "python",
   "nbconvert_exporter": "python",
   "pygments_lexer": "ipython3",
   "version": "3.11.7"
  }
 },
 "nbformat": 4,
 "nbformat_minor": 5
}
